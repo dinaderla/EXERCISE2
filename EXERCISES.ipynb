{
  "nbformat": 4,
  "nbformat_minor": 0,
  "metadata": {
    "colab": {
      "name": "EXERCISES.ipynb",
      "provenance": [],
      "collapsed_sections": []
    },
    "kernelspec": {
      "name": "python3",
      "display_name": "Python 3"
    }
  },
  "cells": [
    {
      "cell_type": "code",
      "metadata": {
        "id": "6o1JHZZJ5z4D",
        "colab_type": "code",
        "colab": {}
      },
      "source": [
        "###EXERCISE1"
      ],
      "execution_count": 0,
      "outputs": []
    },
    {
      "cell_type": "code",
      "metadata": {
        "id": "qEZko3cB5269",
        "colab_type": "code",
        "outputId": "923fb044-99d3-422a-f7e9-a065f35f271a",
        "colab": {
          "base_uri": "https://localhost:8080/",
          "height": 34
        }
      },
      "source": [
        "name = \"Julie\"\n",
        "age = \"42\"\n",
        "\n",
        "samplestring = \"Hi my name is {} and I am {} years old\".format(name, age)\n",
        "\n",
        "print(samplestring)"
      ],
      "execution_count": 0,
      "outputs": [
        {
          "output_type": "stream",
          "text": [
            "Hi my name is Julie and I am 42 years old\n"
          ],
          "name": "stdout"
        }
      ]
    },
    {
      "cell_type": "code",
      "metadata": {
        "id": "9_Y3AAI27PPQ",
        "colab_type": "code",
        "colab": {}
      },
      "source": [
        "###EXERCISE2"
      ],
      "execution_count": 0,
      "outputs": []
    },
    {
      "cell_type": "code",
      "metadata": {
        "id": "tPBe970g6YNm",
        "colab_type": "code",
        "outputId": "a544ff9a-0e58-41f0-d16e-d31abf0bd8b4",
        "colab": {
          "base_uri": "https://localhost:8080/",
          "height": 34
        }
      },
      "source": [
        "year = 1830 \n",
        "\n",
        "if year is 2000 <= 2100:\n",
        "    print(\"Welcome to the 21st Century\")\n",
        "else:\n",
        "    print(\"You are before or after the 21st century\")"
      ],
      "execution_count": 0,
      "outputs": [
        {
          "output_type": "stream",
          "text": [
            "You are before or after the 21st century\n"
          ],
          "name": "stdout"
        }
      ]
    },
    {
      "cell_type": "code",
      "metadata": {
        "id": "eCFo_s3u7J3d",
        "colab_type": "code",
        "colab": {}
      },
      "source": [
        "###EXERCISE3"
      ],
      "execution_count": 0,
      "outputs": []
    },
    {
      "cell_type": "code",
      "metadata": {
        "id": "X0vXU0bF7TFd",
        "colab_type": "code",
        "outputId": "2c41d0c8-f87e-4ec5-8243-584991c7faa2",
        "colab": {
          "base_uri": "https://localhost:8080/",
          "height": 34
        }
      },
      "source": [
        "\"hello\"*3"
      ],
      "execution_count": 0,
      "outputs": [
        {
          "output_type": "execute_result",
          "data": {
            "text/plain": [
              "'hellohellohello'"
            ]
          },
          "metadata": {
            "tags": []
          },
          "execution_count": 44
        }
      ]
    },
    {
      "cell_type": "code",
      "metadata": {
        "id": "oXxeXo_3EtIy",
        "colab_type": "code",
        "colab": {}
      },
      "source": [
        "###EXERCISE4"
      ],
      "execution_count": 0,
      "outputs": []
    },
    {
      "cell_type": "code",
      "metadata": {
        "id": "ez_7g_39n18K",
        "colab_type": "code",
        "colab": {}
      },
      "source": [
        "# Challenge - Lists Exercise\n",
        "# Create a variable named shoes that is a\n",
        "# list of the following items, in order:\n",
        "# Spizikes\n",
        "# Air Force 1\n",
        "# Curry 2\n",
        "# Melo 5"
      ],
      "execution_count": 0,
      "outputs": []
    },
    {
      "cell_type": "code",
      "metadata": {
        "id": "kAU5iTHPpVin",
        "colab_type": "code",
        "outputId": "f0ee90fc-435b-4d35-dd7a-9960ff828562",
        "colab": {
          "base_uri": "https://localhost:8080/",
          "height": 34
        }
      },
      "source": [
        "shoesnames = [\"Spizikes\", \"Air Force 1\", \"Curry 2\", \"Melo 5\"]\n",
        "print(shoesnames)"
      ],
      "execution_count": 0,
      "outputs": [
        {
          "output_type": "stream",
          "text": [
            "['Spizikes', 'Air Force 1', 'Curry 2', 'Melo 5']\n"
          ],
          "name": "stdout"
        }
      ]
    },
    {
      "cell_type": "code",
      "metadata": {
        "id": "rKXqYwkapiRt",
        "colab_type": "code",
        "colab": {}
      },
      "source": [
        "###EXERCISE 5"
      ],
      "execution_count": 0,
      "outputs": []
    },
    {
      "cell_type": "code",
      "metadata": {
        "id": "kQ1eFRcU78A_",
        "colab_type": "code",
        "outputId": "7982a79c-815b-483e-a4ad-be72f7945732",
        "colab": {
          "base_uri": "https://localhost:8080/",
          "height": 153
        }
      },
      "source": [
        "\n",
        "# Challenge - Loops Exercise\n",
        "# Given a list of ints below called numbers.\n",
        "# Print every number that is greater than 90.\n",
        "\n",
        "numbers = [ 76, 83, 16, 69, 52, 78, 10, 77, 45, 52,\n",
        "    32, 17, 58, 54, 79, 72, 55, 50, 81, 74,\n",
        "    45, 33, 38, 10, 40, 44, 70, 81, 79, 28,\n",
        "    83, 41, 14, 16, 27, 38, 20, 84, 24, 50,\n",
        "    59, 71, 1, 13, 56, 91, 29, 54, 65, 23,\n",
        "    60, 57, 13, 39, 58, 94, 94, 42, 46, 58,\n",
        "    59, 29, 69, 60, 83, 9, 83, 5, 64, 70,\n",
        "    55, 89, 67, 89, 70, 8, 90, 17, 48, 17,\n",
        "    94, 18, 98, 72, 96, 26, 13, 7, 58, 67,\n",
        "    38, 48, 43, 98, 65, 8, 74, 44, 92 ]\n",
        "\n",
        "for number in numbers:\n",
        "  if number > 90:\n",
        "    print(number)"
      ],
      "execution_count": 0,
      "outputs": [
        {
          "output_type": "stream",
          "text": [
            "91\n",
            "94\n",
            "94\n",
            "94\n",
            "98\n",
            "96\n",
            "98\n",
            "92\n"
          ],
          "name": "stdout"
        }
      ]
    },
    {
      "cell_type": "code",
      "metadata": {
        "id": "XHvdWdjt9Oix",
        "colab_type": "code",
        "outputId": "ef05affb-ee20-48ca-bb79-fcb7fda5ebe2",
        "colab": {
          "base_uri": "https://localhost:8080/",
          "height": 34
        }
      },
      "source": [
        "###EXERCISE6\n",
        "words = {\"PoGo\":\"Slang for Pokemon Go\",\"Spange\":\"To collect spare change, either from couches, passerbys on the street or any numerous other ways and means\",\"Lie-Fi\":\"When your phone or tablet indicates that you are connected to a wireless network, however you are still unable to load webpages or use any internet services with your device\"}\n",
        "\n",
        "#print(words)\n",
        "print(words[\"PoGo\"])\n"
      ],
      "execution_count": 0,
      "outputs": [
        {
          "output_type": "stream",
          "text": [
            "Slang for Pokemon Go\n"
          ],
          "name": "stdout"
        }
      ]
    },
    {
      "cell_type": "code",
      "metadata": {
        "id": "L8Pv51IkIfzb",
        "colab_type": "code",
        "outputId": "287310a6-e368-4287-c607-a678a8d75591",
        "colab": {
          "base_uri": "https://localhost:8080/",
          "height": 34
        }
      },
      "source": [
        "###EXERCISE 7\n",
        "class Car:\n",
        "\n",
        "    def __init__(self, year, make, model):\n",
        "        self.year = year\n",
        "        self.make = make\n",
        "        self.model = model\n",
        "\n",
        "    def age(self):\n",
        "      return 2019 - self.year\n",
        "car_object = Car(2014, 'Made in Italy', 'Toyota')\n",
        "car_object.age()"
      ],
      "execution_count": 0,
      "outputs": [
        {
          "output_type": "execute_result",
          "data": {
            "text/plain": [
              "5"
            ]
          },
          "metadata": {
            "tags": []
          },
          "execution_count": 9
        }
      ]
    },
    {
      "cell_type": "code",
      "metadata": {
        "id": "A2tphx8IY06e",
        "colab_type": "code",
        "colab": {}
      },
      "source": [
        "###1.2.2"
      ],
      "execution_count": 0,
      "outputs": []
    },
    {
      "cell_type": "code",
      "metadata": {
        "id": "-7ssoNVIYZz6",
        "colab_type": "code",
        "outputId": "3d33dc5b-9bb1-4b8b-89af-3f0f9db5daf4",
        "colab": {
          "base_uri": "https://localhost:8080/",
          "height": 54
        }
      },
      "source": [
        "#Create a program that lists all of the unique words in a song and displays the count of each unique word.\n",
        "import re\n",
        "\n",
        "string = \"\"\"I don't like my mind right now\n",
        "Stacking up problems that are so unnecessary\n",
        "Wish that I could slow things down\n",
        "I wanna let go but there's comfort in the panic\n",
        "And I drive myself crazy\n",
        "Thinking everything's about me\n",
        "Yeah, I drive myself crazy\n",
        "'Cause I can't escape the gravity\n",
        "I'm holding on\n",
        "Why is everything so heavy?\n",
        "Holding on\n",
        "So much more than I can carry\n",
        "I keep dragging around what's bringing me down\n",
        "If I just let go, I'd be set free\n",
        "Holding on\n",
        "Why is everything so heavy?\n",
        "You say that I'm paranoid\n",
        "But I'm pretty sure the world is out to get me\n",
        "It's not like I make the choice\n",
        "To let my mind stay so fucking messy\n",
        "I know I'm not the center of the universe\n",
        "But you keep spinning 'round me just the same\n",
        "I know I'm not the center of the universe\n",
        "But you…\"\"\"\n",
        "\n",
        "# Split words to list\n",
        "x = string.lower().split()\n",
        "\n",
        "# Clean words by removing non-alphanumeric\n",
        "clean_x = [re.sub(r'\\W+', '', word) for word in x]\n",
        "x = {}\n",
        "for y in clean_x:\n",
        "  x[y] = x.get(y, 0)+ 1\n",
        "  \n",
        "print(x)"
      ],
      "execution_count": 0,
      "outputs": [
        {
          "output_type": "stream",
          "text": [
            "{'i': 12, 'dont': 1, 'like': 2, 'my': 2, 'mind': 2, 'right': 1, 'now': 1, 'stacking': 1, 'up': 1, 'problems': 1, 'that': 3, 'are': 1, 'so': 5, 'unnecessary': 1, 'wish': 1, 'could': 1, 'slow': 1, 'things': 1, 'down': 2, 'wanna': 1, 'let': 3, 'go': 2, 'but': 4, 'theres': 1, 'comfort': 1, 'in': 1, 'the': 9, 'panic': 1, 'and': 1, 'drive': 2, 'myself': 2, 'crazy': 2, 'thinking': 1, 'everythings': 1, 'about': 1, 'me': 4, 'yeah': 1, 'cause': 1, 'cant': 1, 'escape': 1, 'gravity': 1, 'im': 5, 'holding': 3, 'on': 3, 'why': 2, 'is': 3, 'everything': 2, 'heavy': 2, 'much': 1, 'more': 1, 'than': 1, 'can': 1, 'carry': 1, 'keep': 2, 'dragging': 1, 'around': 1, 'whats': 1, 'bringing': 1, 'if': 1, 'just': 2, 'id': 1, 'be': 1, 'set': 1, 'free': 1, 'you': 3, 'say': 1, 'paranoid': 1, 'pretty': 1, 'sure': 1, 'world': 1, 'out': 1, 'to': 2, 'get': 1, 'its': 1, 'not': 3, 'make': 1, 'choice': 1, 'stay': 1, 'fucking': 1, 'messy': 1, 'know': 2, 'center': 2, 'of': 2, 'universe': 2, 'spinning': 1, 'round': 1, 'same': 1}\n"
          ],
          "name": "stdout"
        }
      ]
    },
    {
      "cell_type": "code",
      "metadata": {
        "id": "lsDYVKuXY_0N",
        "colab_type": "code",
        "colab": {}
      },
      "source": [
        "###1.2.3"
      ],
      "execution_count": 0,
      "outputs": []
    },
    {
      "cell_type": "code",
      "metadata": {
        "id": "YyyXnMiWPRMQ",
        "colab_type": "code",
        "outputId": "4e9f347d-add3-427d-cb92-e4be2dde0d26",
        "colab": {
          "base_uri": "https://localhost:8080/",
          "height": 34
        }
      },
      "source": [
        "#What is 7 to the power of 4?\n",
        "print (7**4)"
      ],
      "execution_count": 0,
      "outputs": [
        {
          "output_type": "stream",
          "text": [
            "2401\n"
          ],
          "name": "stdout"
        }
      ]
    },
    {
      "cell_type": "code",
      "metadata": {
        "id": "jYJk775yWVNz",
        "colab_type": "code",
        "outputId": "82d1435b-10fe-4334-c072-be96f8cb43cf",
        "colab": {
          "base_uri": "https://localhost:8080/",
          "height": 34
        }
      },
      "source": [
        "#Split the string\n",
        "\n",
        "x = \"Hi there Sam!\"\n",
        "\n",
        "print(x.split())"
      ],
      "execution_count": 0,
      "outputs": [
        {
          "output_type": "stream",
          "text": [
            "['Hi', 'there', 'Sam!']\n"
          ],
          "name": "stdout"
        }
      ]
    },
    {
      "cell_type": "code",
      "metadata": {
        "id": "fj8qgwS3Wrx-",
        "colab_type": "code",
        "outputId": "3823b395-1afb-4955-e56d-2c934fee9a69",
        "colab": {
          "base_uri": "https://localhost:8080/",
          "height": 34
        }
      },
      "source": [
        "#Given the variables:**\n",
        "planet = \"Earth\"\n",
        "diameter = 12742\n",
        "\n",
        "sentence = (\"The diameter of {} is {} kilometers\".format(planet,diameter))\n",
        "print(sentence)\n",
        "\n",
        "#f\"The diameter of {planet} is {12742} kilometers.\""
      ],
      "execution_count": 0,
      "outputs": [
        {
          "output_type": "stream",
          "text": [
            "The diameter of Earth is 12742 kilometers\n"
          ],
          "name": "stdout"
        }
      ]
    },
    {
      "cell_type": "code",
      "metadata": {
        "id": "MY6lxEO7Xeec",
        "colab_type": "code",
        "outputId": "a44bf979-e8f6-481a-957b-c96998786545",
        "colab": {
          "base_uri": "https://localhost:8080/",
          "height": 34
        }
      },
      "source": [
        "##Given this nested dictionary grab the word \"hello\". Be prepared, this will be annoying/tricky **\n",
        "lst = [1,2,[3,4],[5,[100,200,['hello']],23,11],1,7]\n",
        "\n",
        "lst[3][1][2][0]"
      ],
      "execution_count": 0,
      "outputs": [
        {
          "output_type": "execute_result",
          "data": {
            "text/plain": [
              "'hello'"
            ]
          },
          "metadata": {
            "tags": []
          },
          "execution_count": 4
        }
      ]
    },
    {
      "cell_type": "code",
      "metadata": {
        "id": "axMknh29YDJ6",
        "colab_type": "code",
        "outputId": "afd4afa6-e0fe-4958-b2cf-5b4ff13ba78d",
        "colab": {
          "base_uri": "https://localhost:8080/",
          "height": 34
        }
      },
      "source": [
        "#Given this nested dictionary grab the word \"hello\". Be prepared, this will be annoying/tricky\n",
        "\n",
        "\n",
        "d = {'k1':[1,2,3,{'tricky':['oh','man','inception',{'target':[1,2,3,'hello']}]}]}\n",
        "d.keys()\n",
        "\n",
        "d[\"k1\"][3][\"tricky\"][3][\"target\"][3]\n"
      ],
      "execution_count": 0,
      "outputs": [
        {
          "output_type": "execute_result",
          "data": {
            "text/plain": [
              "'hello'"
            ]
          },
          "metadata": {
            "tags": []
          },
          "execution_count": 19
        }
      ]
    },
    {
      "cell_type": "code",
      "metadata": {
        "id": "QNPwnsWEZNHE",
        "colab_type": "code",
        "colab": {}
      },
      "source": [
        "#What is the main difference between a tuple and a list? \n",
        "#tuple is immutable\n",
        "\n",
        "t = (1, 2, 3)\n",
        "list = [1, 2, 3, 4, 5]"
      ],
      "execution_count": 0,
      "outputs": []
    },
    {
      "cell_type": "code",
      "metadata": {
        "id": "GeDwHWdZZZLr",
        "colab_type": "code",
        "outputId": "2ddda174-bc47-4441-94aa-2ed8d8ebf343",
        "colab": {
          "base_uri": "https://localhost:8080/",
          "height": 34
        }
      },
      "source": [
        "#Create a function that grabs the email website domain from a string in the form:\n",
        "\n",
        "'user@domain.com'.split('@')[1]"
      ],
      "execution_count": 0,
      "outputs": [
        {
          "output_type": "execute_result",
          "data": {
            "text/plain": [
              "'domain.com'"
            ]
          },
          "metadata": {
            "tags": []
          },
          "execution_count": 45
        }
      ]
    },
    {
      "cell_type": "markdown",
      "metadata": {
        "id": "1JCQYaUcDRiu",
        "colab_type": "text"
      },
      "source": [
        "##B\n"
      ]
    },
    {
      "cell_type": "code",
      "metadata": {
        "id": "7PIQVEVKDerl",
        "colab_type": "code",
        "outputId": "3039e381-2bf9-48d6-a227-100b4e4abdae",
        "colab": {
          "base_uri": "https://localhost:8080/",
          "height": 51
        }
      },
      "source": [
        "def findDog(st):\n",
        "    if 'dog' in st.lower(): \n",
        "        print(\"True\")\n",
        "    else:\n",
        "        print(\"False\")\n",
        "\n",
        "st = input(\"Please key a string: >\")\n",
        "findDog(st)\n"
      ],
      "execution_count": 0,
      "outputs": [
        {
          "output_type": "stream",
          "text": [
            "Please key a string: >dog\n",
            "True\n"
          ],
          "name": "stdout"
        }
      ]
    },
    {
      "cell_type": "code",
      "metadata": {
        "id": "lBAS_TTwDxl1",
        "colab_type": "code",
        "outputId": "64a2db2d-42e6-4220-d81f-b85cbbbde4aa",
        "colab": {
          "base_uri": "https://localhost:8080/",
          "height": 68
        }
      },
      "source": [
        "#Create a function that counts the number of times the word \"dog\" occurs in a string. Again ignore edge cases. \n",
        "string = input(\"Please enter your string: \")\n",
        "def countdogs(string):\n",
        "    count = 0\n",
        "    for word in string.lower().split():\n",
        "        if word == 'dog' or word == 'dogs':\n",
        "            count = count + 1\n",
        "            print(count)\n",
        "\n",
        "countdogs(string)"
      ],
      "execution_count": 0,
      "outputs": [
        {
          "output_type": "stream",
          "text": [
            "Please enter your string:  'This dog runs faster than the other dog dude!'\n",
            "1\n",
            "2\n"
          ],
          "name": "stdout"
        }
      ]
    },
    {
      "cell_type": "code",
      "metadata": {
        "id": "efpyUupEWpgA",
        "colab_type": "code",
        "outputId": "d019568d-ccb0-4130-af2a-238342e98152",
        "colab": {
          "base_uri": "https://localhost:8080/",
          "height": 34
        }
      },
      "source": [
        "# Use lambda expressions and the filter() function to filter out words from a list that don't start with the letter 's'. For example:\n",
        "seq = ['soup','dog','salad','cat','great']\n",
        "\n",
        "list(filter(lambda word: word[0]=='s',seq))"
      ],
      "execution_count": 0,
      "outputs": [
        {
          "output_type": "execute_result",
          "data": {
            "text/plain": [
              "['soup', 'salad']"
            ]
          },
          "metadata": {
            "tags": []
          },
          "execution_count": 34
        }
      ]
    },
    {
      "cell_type": "code",
      "metadata": {
        "id": "Tw7HuEYfXcvE",
        "colab_type": "code",
        "outputId": "2f9dd261-617e-4b0d-c68f-3cf4ae3ba0b2",
        "colab": {
          "base_uri": "https://localhost:8080/",
          "height": 136
        }
      },
      "source": [
        "#final problem\n",
        "print(\"Please enter the speed(km/h)(only number please): \\n\")\n",
        "speed = int(input(\"> \"))\n",
        "\n",
        "print(\"Please enter your birthday: (in DD/MM/YYYY format)\\n\")\n",
        "birthday = str(input(\"> \"))\n",
        "\n",
        "def speeding(speed, birthday):\n",
        "    if birthday == '29/08/1989':\n",
        "        s = speed - 5\n",
        "    else:\n",
        "        s = speed\n",
        "\n",
        "    if s <= 60:\n",
        "        print(\"You pass.\")\n",
        "    elif s > 61 and s <= 80:\n",
        "        print(\"You get a small ticket\")\n",
        "    else:\n",
        "        print(\"You get a big ticket.\")\n",
        "\n",
        "speeding(speed, birthday)"
      ],
      "execution_count": 0,
      "outputs": [
        {
          "output_type": "stream",
          "text": [
            "Please enter the speed(km/h)(only number please): \n",
            "\n",
            "> 45\n",
            "Please enter your birthday: (in DD/MM/YYYY format)\n",
            "\n",
            "> 02/14/1998\n",
            "You pass.\n"
          ],
          "name": "stdout"
        }
      ]
    },
    {
      "cell_type": "code",
      "metadata": {
        "id": "AS8V2J4QXj6E",
        "colab_type": "code",
        "colab": {}
      },
      "source": [
        ""
      ],
      "execution_count": 0,
      "outputs": []
    }
  ]
}